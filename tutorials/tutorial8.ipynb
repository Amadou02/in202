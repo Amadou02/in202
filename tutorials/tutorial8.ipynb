{
 "metadata": {
  "name": "",
  "signature": "sha256:e876cd4c8e9a552e59fef29afef6c3e29bf3b5eb883ae5284886c140bd56a803"
 },
 "nbformat": 3,
 "nbformat_minor": 0,
 "worksheets": [
  {
   "cells": [
    {
     "cell_type": "markdown",
     "metadata": {},
     "source": [
      "25bb055c2be51bc3fdd885bd85cf40e4cddb187b\n"
     ]
    },
    {
     "cell_type": "markdown",
     "metadata": {},
     "source": [
      "# Analyse de donn\u00e9es avec `pandas`\n",
      "\n",
      "Dans ce TD nous allons utiliser la biblioth\u00e8que `pandas` pour analyser les donn\u00e9es du r\u00e9pertoire GitHub <https://github.com/in202-uvsq/git-manual> avec lequel vous avez travaill\u00e9 pour le contr\u00f4le continu.\n",
      "\n",
      "Commencez par les lignes de configuration habituelles"
     ]
    },
    {
     "cell_type": "code",
     "collapsed": false,
     "input": [
      "%matplotlib inline\n",
      "\n",
      "import pandas as pd"
     ],
     "language": "python",
     "metadata": {},
     "outputs": [],
     "prompt_number": 1
    },
    {
     "cell_type": "markdown",
     "metadata": {},
     "source": [
      "Nous allons commencer par importer des donn\u00e9es statistiques sur les contributions par utilisateur par semaine. Les lignes qui suivent t\u00e9l\u00e9chargent les donn\u00e9es de la BD de GitHub."
     ]
    },
    {
     "cell_type": "code",
     "collapsed": false,
     "input": [
      "import urllib2, json, datetime\n",
      "contr = json.load(urllib2.urlopen('https://api.github.com/repos/in202-uvsq/git-manual/stats/contributors'))"
     ],
     "language": "python",
     "metadata": {},
     "outputs": [],
     "prompt_number": 2
    },
    {
     "cell_type": "markdown",
     "metadata": {},
     "source": [
      "L'objet `contr` contient plein de donn\u00e9es peu int\u00e9ressantes. La cellule suivante fait le menage, en gardant uniquement cinq colonnes\u202f:\n",
      "\n",
      "- La semaine\n",
      "- Le nom de l'utilisateur\n",
      "- Le nombre de lignes ajout\u00e9s\n",
      "- Le nombre de lignes effac\u00e9es\n",
      "- Le nombre de commits\n",
      "\n",
      "La semaine est au format epoch\u00a0: nombre de millisecondes depuis le premier janvier 1970. Elle est lue avec la fonction `datetime.datetime.fromtimestamp()`."
     ]
    },
    {
     "cell_type": "code",
     "collapsed": false,
     "input": [
      "data = [{ 'semaine' : datetime.datetime.fromtimestamp(w['w']).date(),\n",
      "          'utilisateur' : c['author']['login'],\n",
      "          'ajouts' : w['a'],\n",
      "          'effacements' : w['d'],\n",
      "          'commits' : w['c'] }\n",
      "        for c in contr for w in c['weeks']]"
     ],
     "language": "python",
     "metadata": {},
     "outputs": [],
     "prompt_number": 3
    },
    {
     "cell_type": "markdown",
     "metadata": {},
     "source": [
      "### Exercices\n",
      "\n",
      "Affichez le contenu de l'objet data. Cr\u00e9ez un `DataFrame` pandas \u00e0 partir de `data`, comme ceci."
     ]
    },
    {
     "cell_type": "code",
     "collapsed": false,
     "input": [
      "d = pd.DataFrame(data)"
     ],
     "language": "python",
     "metadata": {},
     "outputs": [],
     "prompt_number": 4
    },
    {
     "cell_type": "markdown",
     "metadata": {},
     "source": [
      "3. Affichez le nombre total de commits (m\u00e9thode `.sum()`).\n",
      "\n",
      "4. Affichez les statistiques sur les donn\u00e9es (m\u00e9thode `.describe()`). Quel est le nombre maximal d'ajouts effectu\u00e9s en une semaine par un utilisateur\u202f?\n",
      "\n",
      "## S\u00e9lections\n",
      "\n",
      "1. S\u00e9lectionnez uniquement les lignes qui portent votre nom d'utilisateur (ou celui d'un de vos coll\u00e8gues, si aucun commit ne vous appartient). Affichez le r\u00e9sultat.\n",
      "\n",
      "1. Dessinnez le graphe de vos contributions par semaine. La m\u00e9thode `.plot()` peut prendre un argument pour indiquer quelle colonne mettre en abscisse\u00a0; voir exemple ci-dessous.\n",
      "\n",
      "1. Trouvez l'utilisateur qui a fait le plus de\n",
      "  - commits,\n",
      "  - ajouts,\n",
      "  - effacements."
     ]
    },
    {
     "cell_type": "code",
     "collapsed": false,
     "input": [
      "# Exemple: choisir une colonne pour abscisse\n",
      "\n",
      "e = pd.DataFrame({ 'esp\u00e8ce': [ 'chien', 'loup', 'chat' ],\n",
      "                   'age' : [15, 10, 20] })\n",
      "e.plot()"
     ],
     "language": "python",
     "metadata": {},
     "outputs": [
      {
       "metadata": {},
       "output_type": "pyout",
       "prompt_number": 5,
       "text": [
        "<matplotlib.axes._subplots.AxesSubplot at 0x7fbd12d70490>"
       ]
      },
      {
       "metadata": {},
       "output_type": "display_data",
       "png": "[encoded data removed]",
       "text": [
        "<matplotlib.figure.Figure at 0x7fbd12d5ef10>"
       ]
      }
     ],
     "prompt_number": 5
    },
    {
     "cell_type": "code",
     "collapsed": false,
     "input": [
      "e.plot('esp\u00e8ce')"
     ],
     "language": "python",
     "metadata": {},
     "outputs": [
      {
       "metadata": {},
       "output_type": "pyout",
       "prompt_number": 6,
       "text": [
        "<matplotlib.axes._subplots.AxesSubplot at 0x7fbd124db1d0>"
       ]
      },
      {
       "metadata": {},
       "output_type": "display_data",
       "png": "[encoded data removed]",
       "text": [
        "<matplotlib.figure.Figure at 0x7fbd12d70210>"
       ]
      }
     ],
     "prompt_number": 6
    },
    {
     "cell_type": "markdown",
     "metadata": {},
     "source": [
      "## Regrouper\n",
      "\n",
      "1. En utilisant la m\u00e9thode `.groupby`, afficher le nombre total de commits, ajouts, effacements par semaine.\n",
      "1. En utilisant la m\u00e9thode `.groupby`, afficher le nombre total de commits, ajouts, effacements par utilisateur.\n",
      "1. Trouver les cinq utilisateurs avec le plus d'ajouts (vous pouvez utiliser la m\u00e9thode `sort` pour ordonner les donn\u00e9es).\n",
      "1. Calculer la moyenne de commits par semaine de chaque utilisateur."
     ]
    },
    {
     "cell_type": "markdown",
     "metadata": {},
     "source": [
      "## Jointures\n",
      "\n",
      "La cellule suivante t\u00e9l\u00e9charge la liste de toutes les _pull requests_ du projet."
     ]
    },
    {
     "cell_type": "code",
     "collapsed": false,
     "input": [
      "pulls = json.load(urllib2.urlopen('https://api.github.com/repos/in202-uvsq/git-manual/pulls?state=all'))"
     ],
     "language": "python",
     "metadata": {},
     "outputs": [],
     "prompt_number": 7
    },
    {
     "cell_type": "markdown",
     "metadata": {},
     "source": [
      "On nettoye les donn\u00e9es, pour garder uniquement\n",
      "\n",
      "- Le num\u00e9ro de la _pull request_,\n",
      "- Son titre,\n",
      "- Son cr\u00e9ateur,\n",
      "- Ses dates de cr\u00e9ation et de fermeture.\n",
      "\n",
      "Les dates sont cette fois-ci au format ISO, par ex.: 2015-03-01. On les lit avec la fonction `dateutil.parser.parse`."
     ]
    },
    {
     "cell_type": "code",
     "collapsed": false,
     "input": [
      "import dateutil.parser as parser\n",
      "\n",
      "data = [{ 'numero' : p['number'],\n",
      "          'titre' : p['title'],\n",
      "          'utilisateur' : p['user']['login'],\n",
      "          'creation' : parser.parse(p['created_at']),\n",
      "          'fermeture' : parser.parse(p['closed_at']) }\n",
      "        for p in pulls]"
     ],
     "language": "python",
     "metadata": {},
     "outputs": [],
     "prompt_number": 8
    },
    {
     "cell_type": "markdown",
     "metadata": {},
     "source": [
      "### Exercices\n",
      "\n",
      "1. Cr\u00e9ez un `DataFrame` \u00e0 partir de ces donn\u00e9es.\n",
      "2. On peut calculer la dur\u00e9e d'une _pull request_ en faisant la diff\u00e9rence des colonnes `creation` et `fermeture`. Ajouter une colonne `duree` au DataFrame contenant cette information.\n",
      "\n",
      "Partez du `DataFrame` construit pr\u00e9c\u00e9demment, regroup\u00e9 par utilisateur et _r\u00e9-index\u00e9_\u202f:"
     ]
    },
    {
     "cell_type": "code",
     "collapsed": false,
     "input": [
      "d.groupby('utilisateur').sum().reset_index()"
     ],
     "language": "python",
     "metadata": {},
     "outputs": [
      {
       "html": [
        "<div style=\"max-height:1000px;max-width:1500px;overflow:auto;\">\n",
        "<table border=\"1\" class=\"dataframe\">\n",
        "  <thead>\n",
        "    <tr style=\"text-align: right;\">\n",
        "      <th></th>\n",
        "      <th>utilisateur</th>\n",
        "      <th>ajouts</th>\n",
        "      <th>commits</th>\n",
        "      <th>effacements</th>\n",
        "    </tr>\n",
        "  </thead>\n",
        "  <tbody>\n",
        "    <tr>\n",
        "      <th>0 </th>\n",
        "      <td>          Emaltard</td>\n",
        "      <td> 126</td>\n",
        "      <td>  5</td>\n",
        "      <td> 104</td>\n",
        "    </tr>\n",
        "    <tr>\n",
        "      <th>1 </th>\n",
        "      <td>            Gruudu</td>\n",
        "      <td>  34</td>\n",
        "      <td>  2</td>\n",
        "      <td>  24</td>\n",
        "    </tr>\n",
        "    <tr>\n",
        "      <th>2 </th>\n",
        "      <td>       Iwantaponey</td>\n",
        "      <td> 534</td>\n",
        "      <td> 21</td>\n",
        "      <td> 340</td>\n",
        "    </tr>\n",
        "    <tr>\n",
        "      <th>3 </th>\n",
        "      <td>      KaneBoubacar</td>\n",
        "      <td> 158</td>\n",
        "      <td>  5</td>\n",
        "      <td>  80</td>\n",
        "    </tr>\n",
        "    <tr>\n",
        "      <th>4 </th>\n",
        "      <td>        Lebataclan</td>\n",
        "      <td> 329</td>\n",
        "      <td> 20</td>\n",
        "      <td> 319</td>\n",
        "    </tr>\n",
        "    <tr>\n",
        "      <th>5 </th>\n",
        "      <td>              LowD</td>\n",
        "      <td> 112</td>\n",
        "      <td>  7</td>\n",
        "      <td>  11</td>\n",
        "    </tr>\n",
        "    <tr>\n",
        "      <th>6 </th>\n",
        "      <td>      Melanie13340</td>\n",
        "      <td>  51</td>\n",
        "      <td>  1</td>\n",
        "      <td>   0</td>\n",
        "    </tr>\n",
        "    <tr>\n",
        "      <th>7 </th>\n",
        "      <td>       Mr-Nico-972</td>\n",
        "      <td> 115</td>\n",
        "      <td>  4</td>\n",
        "      <td>  57</td>\n",
        "    </tr>\n",
        "    <tr>\n",
        "      <th>8 </th>\n",
        "      <td>           Nambrok</td>\n",
        "      <td> 355</td>\n",
        "      <td> 15</td>\n",
        "      <td> 450</td>\n",
        "    </tr>\n",
        "    <tr>\n",
        "      <th>9 </th>\n",
        "      <td>             Ousam</td>\n",
        "      <td> 181</td>\n",
        "      <td>  6</td>\n",
        "      <td>  75</td>\n",
        "    </tr>\n",
        "    <tr>\n",
        "      <th>10</th>\n",
        "      <td>    Protosspaspris</td>\n",
        "      <td>  25</td>\n",
        "      <td>  2</td>\n",
        "      <td>   1</td>\n",
        "    </tr>\n",
        "    <tr>\n",
        "      <th>11</th>\n",
        "      <td>        SuzanneAir</td>\n",
        "      <td> 367</td>\n",
        "      <td> 20</td>\n",
        "      <td> 334</td>\n",
        "    </tr>\n",
        "    <tr>\n",
        "      <th>12</th>\n",
        "      <td>     ThomasBrebant</td>\n",
        "      <td> 233</td>\n",
        "      <td>  7</td>\n",
        "      <td>  65</td>\n",
        "    </tr>\n",
        "    <tr>\n",
        "      <th>13</th>\n",
        "      <td>            Ylen96</td>\n",
        "      <td> 633</td>\n",
        "      <td>  9</td>\n",
        "      <td> 325</td>\n",
        "    </tr>\n",
        "    <tr>\n",
        "      <th>14</th>\n",
        "      <td>           amendiI</td>\n",
        "      <td> 479</td>\n",
        "      <td> 20</td>\n",
        "      <td> 137</td>\n",
        "    </tr>\n",
        "    <tr>\n",
        "      <th>15</th>\n",
        "      <td>           calae91</td>\n",
        "      <td> 434</td>\n",
        "      <td>  6</td>\n",
        "      <td>   4</td>\n",
        "    </tr>\n",
        "    <tr>\n",
        "      <th>16</th>\n",
        "      <td>             defeo</td>\n",
        "      <td> 118</td>\n",
        "      <td>  1</td>\n",
        "      <td>   0</td>\n",
        "    </tr>\n",
        "    <tr>\n",
        "      <th>17</th>\n",
        "      <td>      ducks-skills</td>\n",
        "      <td> 409</td>\n",
        "      <td>  2</td>\n",
        "      <td> 205</td>\n",
        "    </tr>\n",
        "    <tr>\n",
        "      <th>18</th>\n",
        "      <td>     incognitomada</td>\n",
        "      <td>  16</td>\n",
        "      <td>  2</td>\n",
        "      <td>  12</td>\n",
        "    </tr>\n",
        "    <tr>\n",
        "      <th>19</th>\n",
        "      <td>            moumzy</td>\n",
        "      <td>  86</td>\n",
        "      <td>  2</td>\n",
        "      <td>   6</td>\n",
        "    </tr>\n",
        "    <tr>\n",
        "      <th>20</th>\n",
        "      <td> pierre-cauletUVSQ</td>\n",
        "      <td>  47</td>\n",
        "      <td>  4</td>\n",
        "      <td>  13</td>\n",
        "    </tr>\n",
        "    <tr>\n",
        "      <th>21</th>\n",
        "      <td>            yobero</td>\n",
        "      <td> 558</td>\n",
        "      <td> 22</td>\n",
        "      <td> 321</td>\n",
        "    </tr>\n",
        "  </tbody>\n",
        "</table>\n",
        "</div>"
       ],
       "metadata": {},
       "output_type": "pyout",
       "prompt_number": 9,
       "text": [
        "          utilisateur  ajouts  commits  effacements\n",
        "0            Emaltard     126        5          104\n",
        "1              Gruudu      34        2           24\n",
        "2         Iwantaponey     534       21          340\n",
        "3        KaneBoubacar     158        5           80\n",
        "4          Lebataclan     329       20          319\n",
        "5                LowD     112        7           11\n",
        "6        Melanie13340      51        1            0\n",
        "7         Mr-Nico-972     115        4           57\n",
        "8             Nambrok     355       15          450\n",
        "9               Ousam     181        6           75\n",
        "10     Protosspaspris      25        2            1\n",
        "11         SuzanneAir     367       20          334\n",
        "12      ThomasBrebant     233        7           65\n",
        "13             Ylen96     633        9          325\n",
        "14            amendiI     479       20          137\n",
        "15            calae91     434        6            4\n",
        "16              defeo     118        1            0\n",
        "17       ducks-skills     409        2          205\n",
        "18      incognitomada      16        2           12\n",
        "19             moumzy      86        2            6\n",
        "20  pierre-cauletUVSQ      47        4           13\n",
        "21             yobero     558       22          321"
       ]
      }
     ],
     "prompt_number": 9
    },
    {
     "cell_type": "markdown",
     "metadata": {},
     "source": [
      "1. Avec la m\u00e9thode `.merge`, fusionnez ce dernier `DataFrame` avec les pulls requests.\n",
      "2. Regroupez par utilisateur et calculez la moyenne (m\u00e9thode `.mean()`).\n",
      "3. Comparez la dur\u00e9e moyenne des _pull requests_ de l'utilisateurs le plus productif avec la dur\u00e9e moyenne de l'utilisateur le moins productif.\n",
      "4. Ordonnez par nombre d'ajouts, et dessinnez la dur\u00e9e moyenne des pull requests en fonction du nombre d'ajouts."
     ]
    },
    {
     "cell_type": "markdown",
     "metadata": {},
     "source": [
      "## Exercice: des donn\u00e9es un peu plus fines\n",
      "\n",
      "La ligne suivante t\u00e9l\u00e9charge la liste de tous les commits"
     ]
    },
    {
     "cell_type": "code",
     "collapsed": false,
     "input": [
      "commits = json.load(urllib2.urlopen('https://api.github.com/repos/in202-uvsq/git-manual/commits'))"
     ],
     "language": "python",
     "metadata": {},
     "outputs": [],
     "prompt_number": 10
    },
    {
     "cell_type": "markdown",
     "metadata": {},
     "source": [
      "1. \u00c9tudier le format des donn\u00e9es, et en extraire\n",
      "\n",
      "  - Le SHA,\n",
      "  - La date du commit sans l'heure (utiliser `datetime` comme plus haut),\n",
      "  - Le login du cr\u00e9ateur.\n",
      "  \n",
      "  Construire un `DataFrame` \u00e0 partir de ces donn\u00e9es.\n",
      "\n",
      "1. Dessinner le graphe de vos contributions jour par jour."
     ]
    },
    {
     "cell_type": "code",
     "collapsed": false,
     "input": [
      "f = pd.DataFrame(data)"
     ],
     "language": "python",
     "metadata": {},
     "outputs": [],
     "prompt_number": 11
    },
    {
     "cell_type": "code",
     "collapsed": false,
     "input": [
      "(f.fermeture - f.creation).mean()"
     ],
     "language": "python",
     "metadata": {},
     "outputs": [
      {
       "metadata": {},
       "output_type": "pyout",
       "prompt_number": 12,
       "text": [
        "0   00:48:16.766667\n",
        "dtype: timedelta64[ns]"
       ]
      }
     ],
     "prompt_number": 12
    },
    {
     "cell_type": "code",
     "collapsed": false,
     "input": [],
     "language": "python",
     "metadata": {},
     "outputs": [],
     "prompt_number": 12
    }
   ],
   "metadata": {}
  }
 ]
}