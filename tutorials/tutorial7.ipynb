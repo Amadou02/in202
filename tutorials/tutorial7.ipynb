{
 "metadata": {
  "name": "",
  "signature": "sha256:9f1dfe2408fe4f92c2353d324bf29092acf5df2c49e1d9131ef1f4cf182bece3"
 },
 "nbformat": 3,
 "nbformat_minor": 0,
 "worksheets": [
  {
   "cells": [
    {
     "cell_type": "markdown",
     "metadata": {},
     "source": [
      "# matplotlib - graphiques en Python\n",
      "\n",
      "Ce TD propose une d\u00e9couverte de la biblioth\u00e8que Python de dessin `matplotlib`. Avant de commencer, vous allez cr\u00e9er un compte sur le site <http://cloud.sagemath.com>, qui offre gratuitement, entre autres, la possiblit\u00e9 de cr\u00e9er des notebooks IPython (Python 2).\n",
      "\n",
      "Une fois connect\u00e9s, cr\u00e9ez un nouveau projet (bouton _\"create new project\"_), ouvrez-le, cliquez sur _\"Create new files in home directory of project\"_, et cr\u00e9ez un nouveau notebook en cliquant sur le bouton *\"IPython Notebook\"*.\n",
      "\n",
      "Vous pouvez cr\u00e9er autant de notebooks que vous le souaitez dans un projet, ainsi que d'autres outils (feuilles de calcul Sage, terminaux Unix, fichiers LaTeX, ...)"
     ]
    },
    {
     "cell_type": "markdown",
     "metadata": {},
     "source": [
      "## Prise en main de `matplotlib`\n",
      "\n",
      "Le point de d\u00e9part pour l'apprentissage de `matplotlib` est le tutoriel http://matplotlib.org/users/pyplot_tutorial.html.\n",
      "\n",
      "Une introduction utile est le tutoriel http://github.com/jrjohansson/scientific-python-lectures.\n",
      "\n",
      "de J.R. Johansson (robert@riken.jp) http://dml.riken.jp/~rob/\n",
      "\n",
      "`matplotlib` est une biblioth\u00e8que Python de dessin tr\u00e8s populaire dans le monde scientifique. Parmi ses caract\u00e9ristiques, il y a\u202f:\n",
      "\n",
      "- Support $\\LaTeX$,\n",
      "- Sortie de haute qualit\u00e9 en PNG, PDF, SVG, EPS, PGF, ...\n",
      "- Interactivit\u00e9.\n",
      "\n",
      "Elle s'int\u00e8gre parfaitement avec le notebook IPython. Le notebook typique commence par une ligne de configuration\u202f:"
     ]
    },
    {
     "cell_type": "code",
     "collapsed": false,
     "input": [
      "# Cette commande active l'affichage des graphiques matplotlib\n",
      "# dans le notebook. Elle doit appara\u00eetre une fois, au d\u00e9but du\n",
      "# notebook\n",
      "\n",
      "%matplotlib inline"
     ],
     "language": "python",
     "metadata": {},
     "outputs": [],
     "prompt_number": 1
    },
    {
     "cell_type": "markdown",
     "metadata": {},
     "source": [
      "Ensuite on importe les biblioth\u00e8ques `matplotlib.pyplot` et `numpy`. Par commodit\u00e9 et convention, on donne les alias `plt` et `np` \u00e0 ces biblioth\u00e8ques\u202f:"
     ]
    },
    {
     "cell_type": "code",
     "collapsed": false,
     "input": [
      "import matplotlib.pyplot as plt\n",
      "import numpy as np"
     ],
     "language": "python",
     "metadata": {},
     "outputs": [],
     "prompt_number": 2
    },
    {
     "cell_type": "markdown",
     "metadata": {},
     "source": [
      "On commence imm\u00e9diatement avec un exemple: on approxime une parabole par morceaux de droites"
     ]
    },
    {
     "cell_type": "code",
     "collapsed": false,
     "input": [
      "plt.plot([0, 1, 4, 9, 16, 25, 36, 49])"
     ],
     "language": "python",
     "metadata": {},
     "outputs": [
      {
       "metadata": {},
       "output_type": "pyout",
       "prompt_number": 3,
       "text": [
        "[<matplotlib.lines.Line2D at 0x7f0b275ab510>]"
       ]
      },
      {
       "metadata": {},
       "output_type": "display_data",
       "png": "[encoded data removed]",
       "text": [
        "<matplotlib.figure.Figure at 0x7f0b298fda90>"
       ]
      }
     ],
     "prompt_number": 3
    },
    {
     "cell_type": "markdown",
     "metadata": {},
     "source": [
      "Expliquons ce qui se passe ici\u202f:\n",
      "\n",
      "  - `plt.plot` prend en param\u00e8tre une liste de points, ce sont les ordonn\u00e9es,\n",
      "  - les abscisses sont par d\u00e9faut $0, 1, 2, \\dots$\n",
      "  - `plot.plot` renovie un objet de type `lines.Line2D`. IPython sait comment afficher cet objet, gr\u00e2ce \u00e0 la commande magique `%matplotlib` que nous avons saisie touten haut.\n",
      "\n",
      "Voyons maintenant comment donner des abscisses autres que $0, 1, 2, ...$"
     ]
    },
    {
     "cell_type": "code",
     "collapsed": false,
     "input": [
      "plt.plot([1, 3, 5, 7], [10, 2, 8, 5], 'r--')"
     ],
     "language": "python",
     "metadata": {},
     "outputs": [
      {
       "metadata": {},
       "output_type": "pyout",
       "prompt_number": 4,
       "text": [
        "[<matplotlib.lines.Line2D at 0x7f0b27505a50>]"
       ]
      },
      {
       "metadata": {},
       "output_type": "display_data",
       "png": "[encoded data removed]",
       "text": [
        "<matplotlib.figure.Figure at 0x7f0b275d8690>"
       ]
      }
     ],
     "prompt_number": 4
    },
    {
     "cell_type": "markdown",
     "metadata": {},
     "source": [
      "Ceci m\u00e9rite quelques explications\u202f:\n",
      "\n",
      "- Le premier param\u00e8tre, est la liste d'abscisses,\n",
      "- Le deuxi\u00e8me param\u00e8tre, est la liste des ordonn\u00e9es,\n",
      "- Le troisi\u00e8me param\u00e8tre est le type de ligne\u202f: `r` pour *\"red\"*, `--` pour les tirets. La liste des couleurs et styles disponibles est ici\u202f:  http://matplotlib.org/api/pyplot_api.html#matplotlib.pyplot.plot\n",
      "\n",
      "Mais ce dessin est d\u00e9form\u00e9\u202f! R\u00e9m\u00e9dions\u202f!"
     ]
    },
    {
     "cell_type": "code",
     "collapsed": false,
     "input": [
      "plt.plot([1, 3, 5, 7], [10, 2, 8, 5], 'go-', linewidth=2)\n",
      "plt.axis([0,11,0,11])\n",
      "plt.xlabel('abscisses')\n",
      "plt.ylabel('ordonnees')\n",
      "plt.title('des donnees')"
     ],
     "language": "python",
     "metadata": {},
     "outputs": [
      {
       "metadata": {},
       "output_type": "pyout",
       "prompt_number": 5,
       "text": [
        "<matplotlib.text.Text at 0x7f0b2748d510>"
       ]
      },
      {
       "metadata": {},
       "output_type": "display_data",
       "png": "[encoded data removed]",
       "text": [
        "<matplotlib.figure.Figure at 0x7f0b2754b450>"
       ]
      }
     ],
     "prompt_number": 5
    },
    {
     "cell_type": "markdown",
     "metadata": {},
     "source": [
      "On voit dans cet exemple que les fonctions de `plt` s'appliquent de fa\u00e7on incr\u00e9mentale au dessin.\n",
      "\n",
      "Voici un dernier exemple avec plusieurs courbes."
     ]
    },
    {
     "cell_type": "code",
     "collapsed": false,
     "input": [
      "plt.plot([0, 1, 4, 9, 16, 25], 'bo', label=\"parabole\")\n",
      "plt.plot([0, 1, 27, 64, 125], 'rx-.', label=\"cubique\")\n",
      "plt.legend()"
     ],
     "language": "python",
     "metadata": {},
     "outputs": [
      {
       "metadata": {},
       "output_type": "pyout",
       "prompt_number": 6,
       "text": [
        "<matplotlib.legend.Legend at 0x7f0b274c37d0>"
       ]
      },
      {
       "metadata": {},
       "output_type": "display_data",
       "png": "[encoded data removed]",
       "text": [
        "<matplotlib.figure.Figure at 0x7f0b2749d310>"
       ]
      }
     ],
     "prompt_number": 6
    },
    {
     "cell_type": "markdown",
     "metadata": {},
     "source": [
      "### Exercices\n",
      "\n",
      "1. Dessinnez le graphe de votre nombre d'heures de cours par jour de la semaine (num\u00e9roter les jours de 1 \u00e0 7).\n",
      "\n",
      "1. Dessinner un pentagone (pas n\u00e9cessairement r\u00e9guilier).\n",
      "\n",
      "1. Dessinner la courbe d'\u00e9quation $y = x^3$ entre $-10$ et $10$ en utilisant $200$ \u00e9chantillons (c'est \u00e0 dire $200$ valeurs pour $x$). Aidez-vous avec une boucle `for`."
     ]
    },
    {
     "cell_type": "markdown",
     "metadata": {},
     "source": [
      "## Compr\u00e9hensions\n",
      "\n",
      "Les boucles `for` ne sont pas la seule fa\u00e7on de construire des gros ensembles de donn\u00e9es. Python offre une syntaxe tr\u00e8s pratique, dite des *compr\u00e9hensions de listes*. En voici un exemple"
     ]
    },
    {
     "cell_type": "code",
     "collapsed": false,
     "input": [
      "a = [x**2 for x in range(20) if x % 2 == 0]\n",
      "a"
     ],
     "language": "python",
     "metadata": {},
     "outputs": [
      {
       "metadata": {},
       "output_type": "pyout",
       "prompt_number": 7,
       "text": [
        "[0, 4, 16, 36, 64, 100, 144, 196, 256, 324]"
       ]
      }
     ],
     "prompt_number": 7
    },
    {
     "cell_type": "markdown",
     "metadata": {},
     "source": [
      "### Exercices\n",
      "\n",
      "1. Dessinnez \u00e0 nouveau la courbe d'\u00e9quation $y = x^3$, avec $20$ points d'\u00e9chantillonnage, en utilisant une seule ligne de code"
     ]
    },
    {
     "cell_type": "markdown",
     "metadata": {},
     "source": [
      "## Dessinner des fonctions\n",
      "\n",
      "`numpy` et `matplotlib` offrent une syntaxe encore plus simple pour repr\u00e9senter des fonctions math\u00e9matiques. Observez le code ci-dessous."
     ]
    },
    {
     "cell_type": "code",
     "collapsed": false,
     "input": [
      "a = np.arange(10)\n",
      "a"
     ],
     "language": "python",
     "metadata": {},
     "outputs": [
      {
       "metadata": {},
       "output_type": "pyout",
       "prompt_number": 8,
       "text": [
        "array([0, 1, 2, 3, 4, 5, 6, 7, 8, 9])"
       ]
      }
     ],
     "prompt_number": 8
    },
    {
     "cell_type": "code",
     "collapsed": false,
     "input": [
      "b = range(10)\n",
      "b"
     ],
     "language": "python",
     "metadata": {},
     "outputs": [
      {
       "metadata": {},
       "output_type": "pyout",
       "prompt_number": 9,
       "text": [
        "[0, 1, 2, 3, 4, 5, 6, 7, 8, 9]"
       ]
      }
     ],
     "prompt_number": 9
    },
    {
     "cell_type": "code",
     "collapsed": false,
     "input": [
      "type(a), type(b)"
     ],
     "language": "python",
     "metadata": {},
     "outputs": [
      {
       "metadata": {},
       "output_type": "pyout",
       "prompt_number": 10,
       "text": [
        "(numpy.ndarray, list)"
       ]
      }
     ],
     "prompt_number": 10
    },
    {
     "cell_type": "code",
     "collapsed": false,
     "input": [
      "np.arange(0, 10, 2)"
     ],
     "language": "python",
     "metadata": {},
     "outputs": [
      {
       "metadata": {},
       "output_type": "pyout",
       "prompt_number": 11,
       "text": [
        "array([0, 2, 4, 6, 8])"
       ]
      }
     ],
     "prompt_number": 11
    },
    {
     "cell_type": "markdown",
     "metadata": {},
     "source": [
      "La fonction `np.arange(a,b,c)`, comme la fonction `range`, renvoie une liste comprise entre `a` et `b` avec des incr\u00e9ments de `c`. Mais l'objet renvoy\u00e9 n'est pas une liste normale Python\u202f: il s'agit d'un **array numpy**.\n",
      "\n",
      "Les arrays numpy se comportent diff\u00e9remment des listes Python. Lisez et comprenez ces exemples\u202f:"
     ]
    },
    {
     "cell_type": "code",
     "collapsed": false,
     "input": [
      "2 * a"
     ],
     "language": "python",
     "metadata": {},
     "outputs": [
      {
       "metadata": {},
       "output_type": "pyout",
       "prompt_number": 12,
       "text": [
        "array([ 0,  2,  4,  6,  8, 10, 12, 14, 16, 18])"
       ]
      }
     ],
     "prompt_number": 12
    },
    {
     "cell_type": "code",
     "collapsed": false,
     "input": [
      "2 * b"
     ],
     "language": "python",
     "metadata": {},
     "outputs": [
      {
       "metadata": {},
       "output_type": "pyout",
       "prompt_number": 13,
       "text": [
        "[0, 1, 2, 3, 4, 5, 6, 7, 8, 9, 0, 1, 2, 3, 4, 5, 6, 7, 8, 9]"
       ]
      }
     ],
     "prompt_number": 13
    },
    {
     "cell_type": "code",
     "collapsed": false,
     "input": [
      "a * a"
     ],
     "language": "python",
     "metadata": {},
     "outputs": [
      {
       "metadata": {},
       "output_type": "pyout",
       "prompt_number": 14,
       "text": [
        "array([ 0,  1,  4,  9, 16, 25, 36, 49, 64, 81])"
       ]
      }
     ],
     "prompt_number": 14
    },
    {
     "cell_type": "code",
     "collapsed": false,
     "input": [
      "b * b"
     ],
     "language": "python",
     "metadata": {},
     "outputs": [
      {
       "ename": "TypeError",
       "evalue": "can't multiply sequence by non-int of type 'list'",
       "output_type": "pyerr",
       "traceback": [
        "\u001b[0;31m---------------------------------------------------------------------------\u001b[0m\n\u001b[0;31mTypeError\u001b[0m                                 Traceback (most recent call last)",
        "\u001b[0;32m<ipython-input-15-aa818ac5610b>\u001b[0m in \u001b[0;36m<module>\u001b[0;34m()\u001b[0m\n\u001b[0;32m----> 1\u001b[0;31m \u001b[0mb\u001b[0m \u001b[0;34m*\u001b[0m \u001b[0mb\u001b[0m\u001b[0;34m\u001b[0m\u001b[0m\n\u001b[0m",
        "\u001b[0;31mTypeError\u001b[0m: can't multiply sequence by non-int of type 'list'"
       ]
      }
     ],
     "prompt_number": 15
    },
    {
     "cell_type": "markdown",
     "metadata": {},
     "source": [
      "Les op\u00e9rations arithm\u00e9tiques sont ex\u00e9cut\u00e9es composante par composante sur les arrays numpy, ceci nous permet de dessinner des fonctions math\u00e9matiques avec une syntaxe tr\u00e8s intuitive.\n",
      "\n",
      "Voici la fonction $\\sin x$ entre $0$ et $6\\pi$."
     ]
    },
    {
     "cell_type": "code",
     "collapsed": false,
     "input": [
      "x = 2 * np.pi * np.arange(0, 3, 0.01)   # np.pi est la constante \u03c0\n",
      "y = np.sin(x)\n",
      "plt.plot(x, y)"
     ],
     "language": "python",
     "metadata": {},
     "outputs": [
      {
       "metadata": {},
       "output_type": "pyout",
       "prompt_number": 16,
       "text": [
        "[<matplotlib.lines.Line2D at 0x7f0b2727d090>]"
       ]
      },
      {
       "metadata": {},
       "output_type": "display_data",
       "png": "[encoded data removed]",
       "text": [
        "<matplotlib.figure.Figure at 0x7f0b27302cd0>"
       ]
      }
     ],
     "prompt_number": 16
    },
    {
     "cell_type": "markdown",
     "metadata": {},
     "source": [
      "### Exercices\n",
      "\n",
      "1. Dessinner la fonction $\\cos$ entre $-\\pi$ et $\\pi$.\n",
      "\n",
      "1. Dessinner la fonction $y = x^3$ entre $-10$ et $10$ en utilisant un array numpy.\n",
      "\n",
      "1. On rappelle que le cercle de rayon $1$ a pour \u00e9quation $x^2 + y^2 = 1$. La fonction racine carr\u00e9e s'appelle `np.sqrt`. Dessinner un cercle.\n",
      "\n",
      "4. On rappelle que le cercle unit\u00e9 est param\u00e9tris\u00e9 par les fonctions $(\\cos(x), \\sin(x))$, avec $-\\pi\\le x\\le\\pi$. Dessinner un cercle en utilisant les fonctions `np.sin` et `np.cos`."
     ]
    },
    {
     "cell_type": "markdown",
     "metadata": {},
     "source": [
      "## Sous-graphes\n",
      "\n",
      "On peut afficher plusieurs graphes c\u00f4te \u00e0 c\u00f4te avec la fonction `plt.subplots`. Celle ci prend le nombre de lignes, le nombre de colonnes, et le graphe sur lequel travailler. Voici un exemple."
     ]
    },
    {
     "cell_type": "code",
     "collapsed": false,
     "input": [
      "x = 2 * np.pi * np.arange(0, 3, 0.01)   # np.pi est la constante \u03c0\n",
      "y = np.sin(x)\n",
      "\n",
      "plt.subplot(1,2,1)\n",
      "plt.plot(x, y, 'r--')\n",
      "plt.subplot(1,2,2)\n",
      "plt.plot(y, x, 'g*-');"
     ],
     "language": "python",
     "metadata": {},
     "outputs": [
      {
       "metadata": {},
       "output_type": "display_data",
       "png": "[encoded data removed]",
       "text": [
        "<matplotlib.figure.Figure at 0x7f0b272d0690>"
       ]
      }
     ],
     "prompt_number": 17
    },
    {
     "cell_type": "markdown",
     "metadata": {},
     "source": [
      "### Exercices\n",
      "\n",
      "1. Reproduire le dessin ci-dessous (suggestion\u202fla premi\u00e8re ressemble m\u00e9chamment \u00e0 $e^{-x} \\cos(cx)$... \u00e0 vous de trouver la constante $c$):\n",
      "\n",
      "   ![](http://matplotlib.org/mpl_examples/subplots_axes_and_figures/subplot_demo.png)"
     ]
    },
    {
     "cell_type": "markdown",
     "metadata": {},
     "source": [
      "## Autres types de graphes\n",
      "\n",
      "Voici quelques autres types de graphe offerts par `matplotlib`:\n",
      "\n",
      "- scatter\u202f: la m\u00eame chose qu'un plot sans lignes, mais permet de controler taille et couleur des points.\n",
      "- step\u202f: graphe en escalier.\n",
      "- bar\u202f: graphe en barres.\n",
      "- fill\u202f: remplissage entre deux courbes."
     ]
    },
    {
     "cell_type": "code",
     "collapsed": false,
     "input": [
      "n = np.array([0,1,2,3,4,5])"
     ],
     "language": "python",
     "metadata": {},
     "outputs": [],
     "prompt_number": 18
    },
    {
     "cell_type": "code",
     "collapsed": false,
     "input": [
      "plt.subplot(2, 2, 1)\n",
      "plt.scatter(n, -n, s=10*n+1)\n",
      "plt.title(\"diffusion\")\n",
      "\n",
      "plt.subplot(2, 2, 2)\n",
      "plt.step(n, n**2)\n",
      "plt.title(\"escalier\")\n",
      "\n",
      "plt.subplot(2, 2, 3)\n",
      "plt.bar(n, n**2)\n",
      "plt.title(\"barres\")\n",
      "\n",
      "plt.subplot(2, 2, 4)\n",
      "plt.fill_between(x, x**2, x**3, color=\"green\");\n",
      "plt.title(\"remplissage\");"
     ],
     "language": "python",
     "metadata": {},
     "outputs": [
      {
       "metadata": {},
       "output_type": "display_data",
       "png": "[encoded data removed]",
       "text": [
        "<matplotlib.figure.Figure at 0x7f0b27101050>"
       ]
      }
     ],
     "prompt_number": 19
    },
    {
     "cell_type": "markdown",
     "metadata": {},
     "source": [
      "On peut aussi faire des g\u00e2teaux"
     ]
    },
    {
     "cell_type": "code",
     "collapsed": false,
     "input": [
      "plt.pie([5, 10, 5, 80], labels=['a', 'b', 'c', 'd'], colors=['r', 'w', 'b', 'y'])"
     ],
     "language": "python",
     "metadata": {},
     "outputs": [
      {
       "metadata": {},
       "output_type": "pyout",
       "prompt_number": 20,
       "text": [
        "([<matplotlib.patches.Wedge at 0x7f0b26db8050>,\n",
        "  <matplotlib.patches.Wedge at 0x7f0b26db8a10>,\n",
        "  <matplotlib.patches.Wedge at 0x7f0b26dc23d0>,\n",
        "  <matplotlib.patches.Wedge at 0x7f0b26dc2d50>],\n",
        " [<matplotlib.text.Text at 0x7f0b26db85d0>,\n",
        "  <matplotlib.text.Text at 0x7f0b26db8fd0>,\n",
        "  <matplotlib.text.Text at 0x7f0b26dc2990>,\n",
        "  <matplotlib.text.Text at 0x7f0b26dce350>])"
       ]
      },
      {
       "metadata": {},
       "output_type": "display_data",
       "png": "[encoded data removed]",
       "text": [
        "<matplotlib.figure.Figure at 0x7f0b2721cf90>"
       ]
      }
     ],
     "prompt_number": 20
    },
    {
     "cell_type": "markdown",
     "metadata": {},
     "source": [
      "### Histogrammes\n",
      "\n",
      "Un histogramme est une repr\u00e9sentation de la fr\u00e9quence d'occcurence d'une valeur dans un ensemble."
     ]
    },
    {
     "cell_type": "code",
     "collapsed": false,
     "input": [
      "n = [1, 2, 2, 3, 4, 10, 2, 1]\n",
      "\n",
      "plt.hist(n)"
     ],
     "language": "python",
     "metadata": {},
     "outputs": [
      {
       "metadata": {},
       "output_type": "pyout",
       "prompt_number": 21,
       "text": [
        "(array([ 2.,  3.,  1.,  1.,  0.,  0.,  0.,  0.,  0.,  1.]),\n",
        " array([  1. ,   1.9,   2.8,   3.7,   4.6,   5.5,   6.4,   7.3,   8.2,\n",
        "          9.1,  10. ]),\n",
        " <a list of 10 Patch objects>)"
       ]
      },
      {
       "metadata": {},
       "output_type": "display_data",
       "png": "[encoded data removed]",
       "text": [
        "<matplotlib.figure.Figure at 0x7f0b27229c10>"
       ]
      }
     ],
     "prompt_number": 21
    },
    {
     "cell_type": "markdown",
     "metadata": {},
     "source": [
      "Par d\u00e9faut un histogramme est s\u00e9par\u00e9 en au plus 10 plages de valeurs. Cela peut \u00eatre contr\u00f4l\u00e9 par le param\u00e8tre `bins`."
     ]
    },
    {
     "cell_type": "code",
     "collapsed": false,
     "input": [
      "n = [x % 30 for x in range(10000) if np.sqrt(x).is_integer()]\n",
      "print n\n",
      "\n",
      "plt.subplot(2,1,1)\n",
      "plt.hist(n)\n",
      "\n",
      "plt.subplot(2,1,2)\n",
      "plt.hist(n, bins=30)\n",
      "\n",
      "plt.show()"
     ],
     "language": "python",
     "metadata": {},
     "outputs": [
      {
       "output_type": "stream",
       "stream": "stdout",
       "text": [
        "[0, 1, 4, 9, 16, 25, 6, 19, 4, 21, 10, 1, 24, 19, 16, 15, 16, 19, 24, 1, 10, 21, 4, 19, 6, 25, 16, 9, 4, 1, 0, 1, 4, 9, 16, 25, 6, 19, 4, 21, 10, 1, 24, 19, 16, 15, 16, 19, 24, 1, 10, 21, 4, 19, 6, 25, 16, 9, 4, 1, 0, 1, 4, 9, 16, 25, 6, 19, 4, 21, 10, 1, 24, 19, 16, 15, 16, 19, 24, 1, 10, 21, 4, 19, 6, 25, 16, 9, 4, 1, 0, 1, 4, 9, 16, 25, 6, 19, 4, 21]\n"
       ]
      },
      {
       "metadata": {},
       "output_type": "display_data",
       "png": "[encoded data removed]",
       "text": [
        "<matplotlib.figure.Figure at 0x7f0b26d80fd0>"
       ]
      }
     ],
     "prompt_number": 22
    },
    {
     "cell_type": "markdown",
     "metadata": {},
     "source": [
      "### Exercices\n",
      "\n",
      "1. Dessinner le g\u00e2teau de vos heures de cours par jour de la semaine.\n",
      "\n",
      "1. Dessinner l'histogramme de vos notes au premier semestre.\n",
      "\n",
      "## Analyse de donn\u00e9es\n",
      "\n",
      "Pour terminer, nous allons travailler sur des donn\u00e9es r\u00e9elles. Copiez-collez ce code"
     ]
    },
    {
     "cell_type": "code",
     "collapsed": false,
     "input": [
      "import urllib2\n",
      "import json\n",
      "prenoms = urllib2.urlopen('http://opendata.paris.fr/api/records/1.0/download?dataset=liste_des_prenoms_2004_a_2012&format=json')\n",
      "donnees_brutes = json.load(prenoms)"
     ],
     "language": "python",
     "metadata": {},
     "outputs": [],
     "prompt_number": 23
    },
    {
     "cell_type": "markdown",
     "metadata": {},
     "source": [
      "La variable `donnees_brutes` contient la liste des tous les noms enregistr\u00e9s par la mairie de Paris entre 2004 et 2014 (extr\u00eames inclus), avec le nombre d'occurrences par ann\u00e9e et par pr\u00e9nom.\n",
      "\n",
      "Il s'agit d'un grosse liste\u202f!"
     ]
    },
    {
     "cell_type": "code",
     "collapsed": false,
     "input": [
      "len(donnees_brutes)"
     ],
     "language": "python",
     "metadata": {},
     "outputs": [
      {
       "metadata": {},
       "output_type": "pyout",
       "prompt_number": 24,
       "text": [
        "13546"
       ]
      }
     ],
     "prompt_number": 24
    },
    {
     "cell_type": "markdown",
     "metadata": {},
     "source": [
      "Chaque \u00e9l\u00e9ment de la liste est un dictionnaire Python."
     ]
    },
    {
     "cell_type": "code",
     "collapsed": false,
     "input": [
      "donnees_brutes[0]"
     ],
     "language": "python",
     "metadata": {},
     "outputs": [
      {
       "metadata": {},
       "output_type": "pyout",
       "prompt_number": 25,
       "text": [
        "{u'datasetid': u'liste_des_prenoms_2004_a_2012',\n",
        " u'fields': {u'annee': 2011,\n",
        "  u'nombre': 12,\n",
        "  u'prenoms': u'Zachary',\n",
        "  u'sexe': u'M'},\n",
        " u'record_timestamp': u'2015-03-16T17:33:33.316694',\n",
        " u'recordid': u'aa8805d011cdcc1b9cf1abcd8febd8946028050b'}"
       ]
      }
     ],
     "prompt_number": 25
    },
    {
     "cell_type": "markdown",
     "metadata": {},
     "source": [
      "Le seul champs int\u00e9ressant est `fields`, qui contient les champs suivants\u202f:\n",
      "\n",
      "- `prenoms`\u202f: pr\u00e9onom enregistr\u00e9,\n",
      "- `annee`\u202f: ann\u00e9e de l'enregistrement,\n",
      "- `nombre`\u202f: nombre de fois que le nom a \u00e9t\u00e9 donn\u00e9,\n",
      "- `sexe`\u202f: genre du pr\u00e9nom\u202f: `M`, `F` et `X` (apr\u00e8s 2010 `X` n'est plus utilis\u00e9, et les pr\u00e9noms unisex sont s\u00e9par\u00e9s en enregistrements masculins et enregistrements f\u00e9minins)"
     ]
    },
    {
     "cell_type": "code",
     "collapsed": false,
     "input": [
      "donnees_brutes[0]['fields']"
     ],
     "language": "python",
     "metadata": {},
     "outputs": [
      {
       "metadata": {},
       "output_type": "pyout",
       "prompt_number": 26,
       "text": [
        "{u'annee': 2011, u'nombre': 12, u'prenoms': u'Zachary', u'sexe': u'M'}"
       ]
      }
     ],
     "prompt_number": 26
    },
    {
     "cell_type": "markdown",
     "metadata": {},
     "source": [
      "Par cons\u00e9quent, on ne va garder que ce contenu, dans un liste nomm\u00e9e `donnees`."
     ]
    },
    {
     "cell_type": "code",
     "collapsed": false,
     "input": [
      "donnees = [d['fields'] for d in donnees_brutes]\n",
      "donnees[50:60]"
     ],
     "language": "python",
     "metadata": {},
     "outputs": [
      {
       "metadata": {},
       "output_type": "pyout",
       "prompt_number": 27,
       "text": [
        "[{u'annee': 2012, u'nombre': 5, u'prenoms': u'Annabelle', u'sexe': u'F'},\n",
        " {u'annee': 2012, u'nombre': 46, u'prenoms': u'Anouk', u'sexe': u'F'},\n",
        " {u'annee': 2012, u'nombre': 8, u'prenoms': u'Anya', u'sexe': u'F'},\n",
        " {u'annee': 2012, u'nombre': 10, u'prenoms': u'Ariane', u'sexe': u'F'},\n",
        " {u'annee': 2012, u'nombre': 10, u'prenoms': u'Aristide', u'sexe': u'M'},\n",
        " {u'annee': 2012, u'nombre': 7, u'prenoms': u'Arthus', u'sexe': u'M'},\n",
        " {u'annee': 2012, u'nombre': 7, u'prenoms': u'Assetou', u'sexe': u'F'},\n",
        " {u'annee': 2012, u'nombre': 6, u'prenoms': u'Assil', u'sexe': u'F'},\n",
        " {u'annee': 2012, u'nombre': 5, u'prenoms': u'Astou', u'sexe': u'F'},\n",
        " {u'annee': 2012, u'nombre': 17, u'prenoms': u'Augustine', u'sexe': u'F'}]"
       ]
      }
     ],
     "prompt_number": 27
    },
    {
     "cell_type": "markdown",
     "metadata": {},
     "source": [
      "### Exercices\n",
      "\n",
      "1. Dessinner l'histogramme du nombre d'enregistrements par ann\u00e9e.\n",
      "\n",
      "1. Dessinner, sur un m\u00eame graphe, le nombre d'enregistrements par ann\u00e9e de ces noms\u202f:\n",
      "    \n",
      "    - Alexandre\n",
      "    - Gabriel\n",
      "    - Adam\n",
      "    - Louise\n",
      "    - Arthur\n",
      "    - Gautier\n",
      "    - Annabelle\n",
      "    - votre nom\n",
      "    \n",
      "1. Trouver le nom le plus populaire pour chaque ann\u00e9e.\n",
      "\n",
      "1. Dessiner le nombre de naissances de gar\u00e7ons et de filles en fonction de l'ann\u00e9e."
     ]
    }
   ],
   "metadata": {}
  }
 ]
}